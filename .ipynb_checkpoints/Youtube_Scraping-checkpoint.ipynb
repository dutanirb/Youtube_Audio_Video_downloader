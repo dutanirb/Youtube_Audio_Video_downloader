{
 "cells": [
  {
   "cell_type": "code",
   "execution_count": 2,
   "id": "fafc7835",
   "metadata": {},
   "outputs": [
    {
     "name": "stdout",
     "output_type": "stream",
     "text": [
      "enter: https://youtu.be/Vu4aTrheG9g\n",
      "Life in a ....Metro 3067 Life In a Metro is a journey across three stories entangled with one another by a common yet complex thread of love which will leave audiences yearning yearning to experience similar magic in their own lives. The film's tone is real and reflects the nuance of a city in urban India. It depicts the fate of seven forcing choices. Life in a Metro features a breed of talented and acclaimed young actors from India, and together they bring the screen alive with the interplay of their on screen characters. None\n",
      "Would you like to download the video? Write Yes to start downloading or write No to exit: yes\n",
      "Enter valid link.\n"
     ]
    },
    {
     "data": {
      "text/plain": [
       "'Valid url'"
      ]
     },
     "execution_count": 2,
     "metadata": {},
     "output_type": "execute_result"
    }
   ],
   "source": [
    "#@authorname: Anirban Dutta\n",
    "#@date: 17th, Feb, 2022\n",
    "from pytube import YouTube\n",
    "import regex as re\n",
    "\n",
    "def download_video(str):\n",
    "    regex = re.compile(r'(https?://)?(www\\.)?(youtube|youtu|youtube-nocookie)\\.(com|be)/(watch\\?v=|embed/|v/|.+\\?v=)?(?P<id>[A-Za-z0-9\\-=_]{11})')\n",
    "    match = re.compile(regex)\n",
    "    if (str == None):\n",
    "        return \"Please enter properly\"\n",
    "    if(re.search(match, str)):\n",
    "        return \"Valid url\"\n",
    "    else:\n",
    "        return \"Invalid url\"\n",
    "    return \"valid\"\n",
    "url = input(\"enter: \")\n",
    "try:\n",
    "    target_name = YouTube(url)\n",
    "    title = target_name.title\n",
    "    views =  target_name.views\n",
    "    description = target_name.description\n",
    "    rating = target_name.rating\n",
    "    print(title,views,description,rating)\n",
    "    ask_user = input(\"Would you like to download the video? Write Yes to start downloading or write No to exit: \").lower()\n",
    "    if ask_user == \"yes\":\n",
    "        download = target_name.streams.get_highest_resolution()\n",
    "        print(\"Downloading...\")\n",
    "        download.download()\n",
    "        print(\"Download completed!\")\n",
    "    else:\n",
    "        print(\"Not Downloading.\")\n",
    "except:\n",
    "    print(\"Enter valid link.\")\n",
    "download_video(url)"
   ]
  },
  {
   "cell_type": "code",
   "execution_count": null,
   "id": "a1fb81bb",
   "metadata": {},
   "outputs": [
    {
     "name": "stdout",
     "output_type": "stream",
     "text": [
      "enter: https://youtu.be/Vu4aTrheG9g\n"
     ]
    }
   ],
   "source": [
    "from pytube import YouTube\n",
    "import os\n",
    "\n",
    "def download_audio():\n",
    "    return \"Download Audio\"\n",
    "url = YouTube(input(\"enter: \"))\n",
    "video = url.streams.filter(only_audio=True).first()\n",
    "out_file = video.download(output_path=\".\")\n",
    "base, ext = os.path.splitext(out_file)\n",
    "new_file = base + '.mp3'\n",
    "os.rename(out_file, new_file)\n",
    "print('Done')\n",
    "download_audio()"
   ]
  },
  {
   "cell_type": "code",
   "execution_count": null,
   "id": "ea16a904",
   "metadata": {},
   "outputs": [],
   "source": []
  }
 ],
 "metadata": {
  "kernelspec": {
   "display_name": "Python 3 (ipykernel)",
   "language": "python",
   "name": "python3"
  },
  "language_info": {
   "codemirror_mode": {
    "name": "ipython",
    "version": 3
   },
   "file_extension": ".py",
   "mimetype": "text/x-python",
   "name": "python",
   "nbconvert_exporter": "python",
   "pygments_lexer": "ipython3",
   "version": "3.9.6"
  }
 },
 "nbformat": 4,
 "nbformat_minor": 5
}
