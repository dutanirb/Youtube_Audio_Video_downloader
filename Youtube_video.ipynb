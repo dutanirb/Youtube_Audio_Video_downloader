{
 "cells": [
  {
   "cell_type": "code",
   "execution_count": 19,
   "id": "12302d57",
   "metadata": {},
   "outputs": [
    {
     "name": "stdout",
     "output_type": "stream",
     "text": [
      "Enter the link: \"https://www.youtube.com/watch?v=pDQkMxziztg\"\n",
      "K.G.F Full Hindi movie Explained in Bangla | Yash, Srinidhi Shetty, Ananth Nag | Prashanth Neel 436 K.G.F Full Hindi movie Explained in Bangla | | Yash, Srinidhi Shetty, Ananth Nag | Prashanth Neel\n",
      "\n",
      "Hi guys its the explanetion video of  Prashanth Neel directed movie K.G.F.\n",
      "Do subscribe my channel for more videos.\n",
      "\n",
      "\n",
      "Movie: K.G.F.\n",
      "Cast :  Rocking Star Yash, Sanjay Dutt, Srinidhi Shetty, Raveena Tandon\n",
      "\n",
      "#K.G.F\n",
      "#Yash\n",
      "#KGFBanglaExplanation\n",
      "\n",
      "\n",
      "Disclaimer: Any footage(s) in this video has only been used to communicate a message (understandable) to the audience. According to my knowledge, it’s a fair use under reviews and commentary section. We don't plan to violate anyone's right. Thank Alot.  In case you feel your rights are violated, kindly email me at horrorbanglastory@gmail.com and I will be quite eager to take down my video\n",
      "\n",
      "\n",
      "\n",
      "\n",
      "thanks None\n",
      "Download started...........\n",
      "Download Completed\n"
     ]
    }
   ],
   "source": [
    "#@authorname: Anirban Dutta\n",
    "#@date: 28th, March, 2022\n",
    "from pytube import YouTube\n",
    "import regex as re\n",
    "\n",
    "def download_video(url):\n",
    "    try:\n",
    "        target_name = YouTube(url)\n",
    "        title = target_name.title\n",
    "        views =  target_name.views\n",
    "        description = target_name.description\n",
    "        rating = target_name.rating\n",
    "        print(title,views,description,rating)\n",
    "        print(\"Download started...........\")\n",
    "        target_name.streams.filter(file_extension='mp4')\n",
    "        stream = target_name.streams.get_by_itag(22)\n",
    "        stream.download()\n",
    "        print(\"Download Completed\")\n",
    "    except:\n",
    "        print(\"Enter valid link.\")\n",
    "ask_user = input(\"Enter the link: \")\n",
    "download_video(ask_user)"
   ]
  },
  {
   "cell_type": "code",
   "execution_count": null,
   "id": "a9e4c588",
   "metadata": {},
   "outputs": [],
   "source": []
  }
 ],
 "metadata": {
  "kernelspec": {
   "display_name": "Python 3 (ipykernel)",
   "language": "python",
   "name": "python3"
  },
  "language_info": {
   "codemirror_mode": {
    "name": "ipython",
    "version": 3
   },
   "file_extension": ".py",
   "mimetype": "text/x-python",
   "name": "python",
   "nbconvert_exporter": "python",
   "pygments_lexer": "ipython3",
   "version": "3.9.6"
  }
 },
 "nbformat": 4,
 "nbformat_minor": 5
}
