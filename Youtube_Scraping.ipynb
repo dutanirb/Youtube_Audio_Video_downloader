{
 "cells": [
  {
   "cell_type": "code",
   "execution_count": 3,
   "id": "fafc7835",
   "metadata": {},
   "outputs": [
    {
     "name": "stdout",
     "output_type": "stream",
     "text": [
      "enter: https://www.youtube.com/watch?v=pDQkMxziztg\n",
      "K.G.F Full Hindi movie Explained in Bangla | Yash, Srinidhi Shetty, Ananth Nag | Prashanth Neel 258 K.G.F Full Hindi movie Explained in Bangla | | Yash, Srinidhi Shetty, Ananth Nag | Prashanth Neel\n",
      "\n",
      "Hi guys its the explanetion video of  Prashanth Neel directed movie K.G.F.\n",
      "Do subscribe my channel for more videos.\n",
      "\n",
      "\n",
      "Movie: K.G.F.\n",
      "Cast :  Rocking Star Yash, Sanjay Dutt, Srinidhi Shetty, Raveena Tandon\n",
      "\n",
      "#K.G.F\n",
      "#Yash\n",
      "#KGFBanglaExplanation\n",
      "\n",
      "\n",
      "Disclaimer: Any footage(s) in this video has only been used to communicate a message (understandable) to the audience. According to my knowledge, it’s a fair use under reviews and commentary section. We don't plan to violate anyone's right. Thank Alot.  In case you feel your rights are violated, kindly email me at horrorbanglastory@gmail.com and I will be quite eager to take down my video\n",
      "\n",
      "\n",
      "\n",
      "\n",
      "thanks None\n",
      "Would you like to download the video? Write Yes to start downloading or write No to exit: yes\n",
      "Enter valid link.\n"
     ]
    },
    {
     "data": {
      "text/plain": [
       "'Valid url'"
      ]
     },
     "execution_count": 3,
     "metadata": {},
     "output_type": "execute_result"
    }
   ],
   "source": [
    "#@authorname: Anirban Dutta\n",
    "#@date: 17th, Feb, 2022\n",
    "from pytube import YouTube\n",
    "import regex as re\n",
    "\n",
    "def download_video(str):\n",
    "    regex = re.compile(r'(https?://)?(www\\.)?(youtube|youtu|youtube-nocookie)\\.(com|be)/(watch\\?v=|embed/|v/|.+\\?v=)?(?P<id>[A-Za-z0-9\\-=_]{11})')\n",
    "    match = re.compile(regex)\n",
    "    if (str == None):\n",
    "        return \"Please enter properly\"\n",
    "    if(re.search(match, str)):\n",
    "        return \"Valid url\"\n",
    "    else:\n",
    "        return \"Invalid url\"\n",
    "    return \"valid\"\n",
    "url = input(\"enter: \")\n",
    "try:\n",
    "    target_name = YouTube(url)\n",
    "    title = target_name.title\n",
    "    views =  target_name.views\n",
    "    description = target_name.description\n",
    "    rating = target_name.rating\n",
    "    print(title,views,description,rating)\n",
    "    ask_user = input(\"Would you like to download the video? Write Yes to start downloading or write No to exit: \").lower()\n",
    "    if ask_user == \"yes\":\n",
    "        download = target_name.streams.get_highest_resolution()\n",
    "        print(\"Downloading...\")\n",
    "        download.download()\n",
    "        print(\"Download completed!\")\n",
    "    else:\n",
    "        print(\"Not Downloading.\")\n",
    "except:\n",
    "    print(\"Enter valid link.\")\n",
    "download_video(url)"
   ]
  },
  {
   "cell_type": "code",
   "execution_count": 3,
   "id": "a1fb81bb",
   "metadata": {},
   "outputs": [
    {
     "name": "stdout",
     "output_type": "stream",
     "text": [
      "enter: https://youtu.be/Vu4aTrheG9g\n"
     ]
    },
    {
     "ename": "VideoUnavailable",
     "evalue": "Vu4aTrheG9g is unavailable",
     "output_type": "error",
     "traceback": [
      "\u001b[1;31m---------------------------------------------------------------------------\u001b[0m",
      "\u001b[1;31mVideoUnavailable\u001b[0m                          Traceback (most recent call last)",
      "\u001b[1;32mC:\\Users\\ANIRBA~1\\AppData\\Local\\Temp/ipykernel_107252/670010820.py\u001b[0m in \u001b[0;36m<module>\u001b[1;34m\u001b[0m\n\u001b[0;32m      5\u001b[0m     \u001b[1;32mreturn\u001b[0m \u001b[1;34m\"Download Audio\"\u001b[0m\u001b[1;33m\u001b[0m\u001b[1;33m\u001b[0m\u001b[0m\n\u001b[0;32m      6\u001b[0m \u001b[0murl\u001b[0m \u001b[1;33m=\u001b[0m \u001b[0mYouTube\u001b[0m\u001b[1;33m(\u001b[0m\u001b[0minput\u001b[0m\u001b[1;33m(\u001b[0m\u001b[1;34m\"enter: \"\u001b[0m\u001b[1;33m)\u001b[0m\u001b[1;33m)\u001b[0m\u001b[1;33m\u001b[0m\u001b[1;33m\u001b[0m\u001b[0m\n\u001b[1;32m----> 7\u001b[1;33m \u001b[0mvideo\u001b[0m \u001b[1;33m=\u001b[0m \u001b[0murl\u001b[0m\u001b[1;33m.\u001b[0m\u001b[0mstreams\u001b[0m\u001b[1;33m.\u001b[0m\u001b[0mfilter\u001b[0m\u001b[1;33m(\u001b[0m\u001b[0monly_audio\u001b[0m\u001b[1;33m=\u001b[0m\u001b[1;32mTrue\u001b[0m\u001b[1;33m)\u001b[0m\u001b[1;33m.\u001b[0m\u001b[0mfirst\u001b[0m\u001b[1;33m(\u001b[0m\u001b[1;33m)\u001b[0m\u001b[1;33m\u001b[0m\u001b[1;33m\u001b[0m\u001b[0m\n\u001b[0m\u001b[0;32m      8\u001b[0m \u001b[0mout_file\u001b[0m \u001b[1;33m=\u001b[0m \u001b[0mvideo\u001b[0m\u001b[1;33m.\u001b[0m\u001b[0mdownload\u001b[0m\u001b[1;33m(\u001b[0m\u001b[0moutput_path\u001b[0m\u001b[1;33m=\u001b[0m\u001b[1;34m\".\"\u001b[0m\u001b[1;33m)\u001b[0m\u001b[1;33m\u001b[0m\u001b[1;33m\u001b[0m\u001b[0m\n\u001b[0;32m      9\u001b[0m \u001b[0mbase\u001b[0m\u001b[1;33m,\u001b[0m \u001b[0mext\u001b[0m \u001b[1;33m=\u001b[0m \u001b[0mos\u001b[0m\u001b[1;33m.\u001b[0m\u001b[0mpath\u001b[0m\u001b[1;33m.\u001b[0m\u001b[0msplitext\u001b[0m\u001b[1;33m(\u001b[0m\u001b[0mout_file\u001b[0m\u001b[1;33m)\u001b[0m\u001b[1;33m\u001b[0m\u001b[1;33m\u001b[0m\u001b[0m\n",
      "\u001b[1;32mc:\\users\\anirban dutta\\appdata\\local\\programs\\python\\python39\\lib\\site-packages\\pytube\\__main__.py\u001b[0m in \u001b[0;36mstreams\u001b[1;34m(self)\u001b[0m\n\u001b[0;32m    289\u001b[0m         \u001b[1;33m:\u001b[0m\u001b[0mrtype\u001b[0m\u001b[1;33m:\u001b[0m \u001b[1;33m:\u001b[0m\u001b[1;32mclass\u001b[0m\u001b[1;33m:\u001b[0m\u001b[0;31m`\u001b[0m\u001b[0mStreamQuery\u001b[0m \u001b[1;33m<\u001b[0m\u001b[0mStreamQuery\u001b[0m\u001b[1;33m>\u001b[0m\u001b[0;31m`\u001b[0m\u001b[1;33m.\u001b[0m\u001b[1;33m\u001b[0m\u001b[1;33m\u001b[0m\u001b[0m\n\u001b[0;32m    290\u001b[0m         \"\"\"\n\u001b[1;32m--> 291\u001b[1;33m         \u001b[0mself\u001b[0m\u001b[1;33m.\u001b[0m\u001b[0mcheck_availability\u001b[0m\u001b[1;33m(\u001b[0m\u001b[1;33m)\u001b[0m\u001b[1;33m\u001b[0m\u001b[1;33m\u001b[0m\u001b[0m\n\u001b[0m\u001b[0;32m    292\u001b[0m         \u001b[1;32mreturn\u001b[0m \u001b[0mStreamQuery\u001b[0m\u001b[1;33m(\u001b[0m\u001b[0mself\u001b[0m\u001b[1;33m.\u001b[0m\u001b[0mfmt_streams\u001b[0m\u001b[1;33m)\u001b[0m\u001b[1;33m\u001b[0m\u001b[1;33m\u001b[0m\u001b[0m\n\u001b[0;32m    293\u001b[0m \u001b[1;33m\u001b[0m\u001b[0m\n",
      "\u001b[1;32mc:\\users\\anirban dutta\\appdata\\local\\programs\\python\\python39\\lib\\site-packages\\pytube\\__main__.py\u001b[0m in \u001b[0;36mcheck_availability\u001b[1;34m(self)\u001b[0m\n\u001b[0;32m    216\u001b[0m                     \u001b[1;32mraise\u001b[0m \u001b[0mexceptions\u001b[0m\u001b[1;33m.\u001b[0m\u001b[0mRecordingUnavailable\u001b[0m\u001b[1;33m(\u001b[0m\u001b[0mvideo_id\u001b[0m\u001b[1;33m=\u001b[0m\u001b[0mself\u001b[0m\u001b[1;33m.\u001b[0m\u001b[0mvideo_id\u001b[0m\u001b[1;33m)\u001b[0m\u001b[1;33m\u001b[0m\u001b[1;33m\u001b[0m\u001b[0m\n\u001b[0;32m    217\u001b[0m                 \u001b[1;32melse\u001b[0m\u001b[1;33m:\u001b[0m\u001b[1;33m\u001b[0m\u001b[1;33m\u001b[0m\u001b[0m\n\u001b[1;32m--> 218\u001b[1;33m                     \u001b[1;32mraise\u001b[0m \u001b[0mexceptions\u001b[0m\u001b[1;33m.\u001b[0m\u001b[0mVideoUnavailable\u001b[0m\u001b[1;33m(\u001b[0m\u001b[0mvideo_id\u001b[0m\u001b[1;33m=\u001b[0m\u001b[0mself\u001b[0m\u001b[1;33m.\u001b[0m\u001b[0mvideo_id\u001b[0m\u001b[1;33m)\u001b[0m\u001b[1;33m\u001b[0m\u001b[1;33m\u001b[0m\u001b[0m\n\u001b[0m\u001b[0;32m    219\u001b[0m             \u001b[1;32melif\u001b[0m \u001b[0mstatus\u001b[0m \u001b[1;33m==\u001b[0m \u001b[1;34m'LOGIN_REQUIRED'\u001b[0m\u001b[1;33m:\u001b[0m\u001b[1;33m\u001b[0m\u001b[1;33m\u001b[0m\u001b[0m\n\u001b[0;32m    220\u001b[0m                 if reason == (\n",
      "\u001b[1;31mVideoUnavailable\u001b[0m: Vu4aTrheG9g is unavailable"
     ]
    }
   ],
   "source": [
    "from pytube import YouTube\n",
    "import os\n",
    "\n",
    "def download_audio():\n",
    "    return \"Download Audio\"\n",
    "url = YouTube(input(\"enter: \"))\n",
    "video = url.streams.filter(only_audio=True).first()\n",
    "out_file = video.download(output_path=\".\")\n",
    "base, ext = os.path.splitext(out_file)\n",
    "new_file = base + '.mp3'\n",
    "os.rename(out_file, new_file)\n",
    "print('Done')\n",
    "download_audio()"
   ]
  },
  {
   "cell_type": "code",
   "execution_count": null,
   "id": "ea16a904",
   "metadata": {},
   "outputs": [],
   "source": []
  }
 ],
 "metadata": {
  "kernelspec": {
   "display_name": "Python 3 (ipykernel)",
   "language": "python",
   "name": "python3"
  },
  "language_info": {
   "codemirror_mode": {
    "name": "ipython",
    "version": 3
   },
   "file_extension": ".py",
   "mimetype": "text/x-python",
   "name": "python",
   "nbconvert_exporter": "python",
   "pygments_lexer": "ipython3",
   "version": "3.9.6"
  }
 },
 "nbformat": 4,
 "nbformat_minor": 5
}
